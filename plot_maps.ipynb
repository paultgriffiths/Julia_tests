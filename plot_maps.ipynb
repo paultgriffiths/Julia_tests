{
 "cells": [
  {
   "cell_type": "code",
   "execution_count": 76,
   "id": "547d979c",
   "metadata": {},
   "outputs": [
    {
     "name": "stderr",
     "output_type": "stream",
     "text": [
      "\u001b[32m\u001b[1m   Resolving\u001b[22m\u001b[39m package versions...\n"
     ]
    },
    {
     "name": "stderr",
     "output_type": "stream",
     "text": [
      "\u001b[32m\u001b[1m   Installed\u001b[22m\u001b[39m NetCDF ─ v0.11.7\n",
      "\u001b[32m\u001b[1m    Updating\u001b[22m\u001b[39m `~/src/Julia_playground/ptg/Project.toml`\n",
      " \u001b[90m [30363a11] \u001b[39m\u001b[92m+ NetCDF v0.11.7\u001b[39m\n",
      "\u001b[32m\u001b[1m    Updating\u001b[22m\u001b[39m `~/src/Julia_playground/ptg/Manifest.toml`\n"
     ]
    },
    {
     "name": "stderr",
     "output_type": "stream",
     "text": [
      " \u001b[90m [30363a11] \u001b[39m\u001b[92m+ NetCDF v0.11.7\u001b[39m\n"
     ]
    },
    {
     "name": "stderr",
     "output_type": "stream",
     "text": [
      "\u001b[32m\u001b[1mPrecompiling\u001b[22m\u001b[39m project...\n"
     ]
    },
    {
     "name": "stderr",
     "output_type": "stream",
     "text": [
      "\u001b[32m  ✓ \u001b[39mNetCDF\n"
     ]
    },
    {
     "name": "stderr",
     "output_type": "stream",
     "text": [
      "\u001b[32m  ✓ \u001b[39mptg\n",
      "  2 dependencies successfully precompiled in 2 seconds. 235 already precompiled.\n"
     ]
    }
   ],
   "source": [
    "# import Pkg; Pkg.add(\"GMT\")\n",
    "# import Pkg; Pkg.add(\"NetCDF\")\n",
    "# import Pkg; Pkg.add(\"ClimateBase\")\n",
    "# import Pkg; Pkg.add(\"CFTime\")\n",
    "# import Pkg; Pkg.add(\"GeoData\")\n",
    "\n",
    "import Pkg; Pkg.precompile()"
   ]
  },
  {
   "cell_type": "code",
   "execution_count": 72,
   "id": "0016193a-d7fa-47ce-8a56-c3e2e7ca0bba",
   "metadata": {},
   "outputs": [],
   "source": [
    "using GMT\n",
    "country = gadm(\"TKM\", children=true);"
   ]
  },
  {
   "cell_type": "code",
   "execution_count": 73,
   "id": "27a80d53-5090-4e54-b23a-9f4cc83affbc",
   "metadata": {},
   "outputs": [],
   "source": [
    "imshow(country, proj=:guess)#, title=\"Turkmenistan\")"
   ]
  },
  {
   "cell_type": "code",
   "execution_count": 74,
   "id": "ae1783ed-7790-4b63-909e-db5dab40af5d",
   "metadata": {},
   "outputs": [],
   "source": [
    "coast(region=(-180,180,-60,80), proj=(name=:cylindricalStereographic, center=(0,45)),\n",
    "      xaxis=(annot=45,ticks=15, grid=45), yaxis=(annot=45,grid=45, ticks=15), res=:crude,\n",
    "      area=5000, shore=:black, land=:seashell4, ocean=:antiquewhite1, figsize=12, show=true)"
   ]
  },
  {
   "cell_type": "code",
   "execution_count": 77,
   "id": "78f27246-1b50-4ff2-983d-e0873b988973",
   "metadata": {},
   "outputs": [
    {
     "data": {
      "text/plain": [
       "192×144×1×85 Array{Float32, 4}:\n",
       "[:, :, 1, 1] =\n",
       " 2.8907f-8   2.9193f-8   2.95551f-8  …  3.38428f-8  3.30853f-8  3.05253f-8\n",
       " 2.89213f-8  2.91957f-8  2.95644f-8     3.38602f-8  3.31227f-8  3.06714f-8\n",
       " 2.89401f-8  2.92078f-8  2.95866f-8     3.3888f-8   3.3095f-8   3.06882f-8\n",
       " 2.89525f-8  2.92217f-8  2.9615f-8      3.39406f-8  3.32416f-8  3.11617f-8\n",
       " 2.89642f-8  2.92363f-8  2.96467f-8     3.40014f-8  3.32683f-8  3.10593f-8\n",
       " 2.8983f-8   2.9245f-8   2.96803f-8  …  3.40713f-8  3.33608f-8  3.11613f-8\n",
       " 2.89953f-8  2.92605f-8  2.97304f-8     3.41182f-8  3.34015f-8  3.11332f-8\n",
       " 2.90093f-8  2.92707f-8  2.97887f-8     3.42315f-8  3.34666f-8  3.12514f-8\n",
       " 2.90185f-8  2.92787f-8  2.98449f-8     3.42779f-8  3.34658f-8  3.09257f-8\n",
       " 2.90285f-8  2.92846f-8  2.99022f-8     3.43211f-8  3.35133f-8  3.15279f-8\n",
       " ⋮                                   ⋱                          \n",
       " 2.88389f-8  2.92025f-8  2.94372f-8     3.35694f-8  3.32026f-8  3.15346f-8\n",
       " 2.88419f-8  2.91999f-8  2.94515f-8     3.36394f-8  3.32059f-8  3.1408f-8\n",
       " 2.88499f-8  2.91931f-8  2.94699f-8  …  3.3683f-8   3.32061f-8  3.13602f-8\n",
       " 2.88506f-8  2.91899f-8  2.95075f-8     3.36779f-8  3.31405f-8  3.09365f-8\n",
       " 2.88567f-8  2.91836f-8  2.95805f-8     3.37194f-8  3.31436f-8  3.09899f-8\n",
       " 2.88624f-8  2.91828f-8  2.96075f-8     3.37461f-8  3.31357f-8  3.10553f-8\n",
       " 2.88723f-8  2.91786f-8  2.95792f-8     3.37696f-8  3.31591f-8  3.09992f-8\n",
       " 2.8883f-8   2.91854f-8  2.95635f-8  …  3.37993f-8  3.31344f-8  3.08825f-8\n",
       " 2.88919f-8  2.91906f-8  2.95553f-8     3.38098f-8  3.30831f-8  3.0834f-8\n",
       "\n",
       "[:, :, 1, 2] =\n",
       " 2.94949f-8  2.98087f-8  3.01734f-8  …  3.68298f-8  3.61724f-8  3.3647f-8\n",
       " 2.95087f-8  2.98233f-8  3.01938f-8     3.68759f-8  3.62626f-8  3.38053f-8\n",
       " 2.95197f-8  2.98406f-8  3.02208f-8     3.69271f-8  3.62531f-8  3.38889f-8\n",
       " 2.95288f-8  2.98582f-8  3.02519f-8     3.69495f-8  3.63688f-8  3.44712f-8\n",
       " 2.95408f-8  2.98732f-8  3.02915f-8     3.69606f-8  3.63984f-8  3.43998f-8\n",
       " 2.95513f-8  2.9886f-8   3.03487f-8  …  3.70286f-8  3.64808f-8  3.45049f-8\n",
       " 2.95572f-8  2.99003f-8  3.04094f-8     3.70722f-8  3.65001f-8  3.44943f-8\n",
       " 2.95615f-8  2.9913f-8   3.04823f-8     3.72022f-8  3.65597f-8  3.45794f-8\n",
       " 2.95651f-8  2.99221f-8  3.05464f-8     3.72499f-8  3.65571f-8  3.41864f-8\n",
       " 2.95729f-8  2.99302f-8  3.06136f-8     3.72914f-8  3.66051f-8  3.48413f-8\n",
       " ⋮                                   ⋱                          \n",
       " 2.9431f-8   2.98376f-8  3.00847f-8     3.64128f-8  3.60459f-8  3.45327f-8\n",
       " 2.94288f-8  2.98342f-8  3.00976f-8     3.64929f-8  3.61258f-8  3.44312f-8\n",
       " 2.94327f-8  2.98275f-8  3.01182f-8  …  3.65298f-8  3.61427f-8  3.43947f-8\n",
       " 2.94366f-8  2.98137f-8  3.01296f-8     3.6514f-8   3.60922f-8  3.39975f-8\n",
       " 2.94453f-8  2.98055f-8  3.01809f-8     3.66055f-8  3.61177f-8  3.40408f-8\n",
       " 2.94533f-8  2.98032f-8  3.01708f-8     3.66756f-8  3.61726f-8  3.41472f-8\n",
       " 2.94618f-8  2.98029f-8  3.01434f-8     3.67433f-8  3.62277f-8  3.41431f-8\n",
       " 2.94741f-8  2.97968f-8  3.01392f-8  …  3.67599f-8  3.62247f-8  3.40141f-8\n",
       " 2.94845f-8  2.98022f-8  3.01485f-8     3.67631f-8  3.61709f-8  3.39606f-8\n",
       "\n",
       "[:, :, 1, 3] =\n",
       " 2.81639f-8  2.81062f-8  2.82838f-8  …  3.756f-8    3.67122f-8  3.39927f-8\n",
       " 2.81749f-8  2.81062f-8  2.83163f-8     3.76283f-8  3.67826f-8  3.40677f-8\n",
       " 2.81848f-8  2.81136f-8  2.83337f-8     3.77176f-8  3.681f-8    3.41096f-8\n",
       " 2.81957f-8  2.81211f-8  2.836f-8       3.78288f-8  3.69767f-8  3.46967f-8\n",
       " 2.82071f-8  2.81267f-8  2.83979f-8     3.78655f-8  3.70309f-8  3.4663f-8\n",
       " 2.82172f-8  2.81327f-8  2.84496f-8  …  3.79335f-8  3.71551f-8  3.48081f-8\n",
       " 2.82264f-8  2.81309f-8  2.85052f-8     3.79995f-8  3.72389f-8  3.48177f-8\n",
       " 2.82352f-8  2.81379f-8  2.85618f-8     3.81426f-8  3.73726f-8  3.49089f-8\n",
       " 2.82466f-8  2.81382f-8  2.86259f-8     3.82086f-8  3.74225f-8  3.45171f-8\n",
       " 2.82558f-8  2.81386f-8  2.86713f-8     3.82736f-8  3.75046f-8  3.51168f-8\n",
       " ⋮                                   ⋱                          \n",
       " 2.81284f-8  2.81939f-8  2.81754f-8     3.66964f-8  3.64721f-8  3.51449f-8\n",
       " 2.81255f-8  2.81778f-8  2.81748f-8     3.68236f-8  3.65151f-8  3.50303f-8\n",
       " 2.81243f-8  2.81574f-8  2.81942f-8  …  3.69285f-8  3.65589f-8  3.49619f-8\n",
       " 2.81222f-8  2.81365f-8  2.8214f-8      3.6978f-8   3.64965f-8  3.44891f-8\n",
       " 2.81358f-8  2.81232f-8  2.82705f-8     3.71051f-8  3.65372f-8  3.45487f-8\n",
       " 2.81387f-8  2.81158f-8  2.82696f-8     3.72257f-8  3.65946f-8  3.46699f-8\n",
       " 2.81435f-8  2.81065f-8  2.82555f-8     3.73132f-8  3.66678f-8  3.4647f-8\n",
       " 2.81513f-8  2.81046f-8  2.82569f-8  …  3.73965f-8  3.67103f-8  3.45521f-8\n",
       " 2.8154f-8   2.81037f-8  2.82682f-8     3.74964f-8  3.66966f-8  3.44765f-8\n",
       "\n",
       ";;;; … \n",
       "\n",
       "[:, :, 1, 83] =\n",
       " 3.031f-8    3.05213f-8  3.10179f-8  …  5.03975f-8  5.03826f-8  5.11086f-8\n",
       " 3.03142f-8  3.05251f-8  3.10153f-8     5.03589f-8  5.03689f-8  5.11215f-8\n",
       " 3.03158f-8  3.05285f-8  3.10368f-8     5.03172f-8  5.03592f-8  5.11426f-8\n",
       " 3.03204f-8  3.05311f-8  3.10643f-8     5.03048f-8  5.03693f-8  5.12377f-8\n",
       " 3.03236f-8  3.05412f-8  3.1086f-8      5.02966f-8  5.03817f-8  5.12405f-8\n",
       " 3.03274f-8  3.05497f-8  3.11155f-8  …  5.03092f-8  5.04007f-8  5.12536f-8\n",
       " 3.03313f-8  3.05526f-8  3.11384f-8     5.03152f-8  5.04208f-8  5.12578f-8\n",
       " 3.03381f-8  3.05511f-8  3.1167f-8      5.03326f-8  5.04345f-8  5.12624f-8\n",
       " 3.03425f-8  3.05536f-8  3.11991f-8     5.03343f-8  5.0447f-8   5.11994f-8\n",
       " 3.03469f-8  3.05418f-8  3.12366f-8     5.03199f-8  5.04599f-8  5.12973f-8\n",
       " ⋮                                   ⋱                          \n",
       " 3.0338f-8   3.05948f-8  3.09348f-8     5.03577f-8  5.0464f-8   5.12657f-8\n",
       " 3.03255f-8  3.05763f-8  3.09528f-8     5.03351f-8  5.04535f-8  5.1249f-8\n",
       " 3.03149f-8  3.05608f-8  3.09798f-8  …  5.03255f-8  5.04552f-8  5.12401f-8\n",
       " 3.03164f-8  3.05505f-8  3.10098f-8     5.03143f-8  5.04532f-8  5.11832f-8\n",
       " 3.03151f-8  3.05325f-8  3.1068f-8      5.03486f-8  5.04475f-8  5.11934f-8\n",
       " 3.03167f-8  3.0524f-8   3.10642f-8     5.03714f-8  5.04381f-8  5.12139f-8\n",
       " 3.03153f-8  3.0518f-8   3.10455f-8     5.03816f-8  5.04284f-8  5.12079f-8\n",
       " 3.0314f-8   3.05186f-8  3.1032f-8   …  5.03871f-8  5.04095f-8  5.11904f-8\n",
       " 3.0309f-8   3.05164f-8  3.10268f-8     5.03975f-8  5.03823f-8  5.11778f-8\n",
       "\n",
       "[:, :, 1, 84] =\n",
       " 3.14088f-8  3.11097f-8  3.13931f-8  …  5.22661f-8  5.20365f-8  5.18301f-8\n",
       " 3.14108f-8  3.11117f-8  3.14218f-8     5.22686f-8  5.2009f-8   5.18399f-8\n",
       " 3.14125f-8  3.11228f-8  3.14608f-8     5.22553f-8  5.19405f-8  5.18446f-8\n",
       " 3.14168f-8  3.11339f-8  3.1495f-8      5.22606f-8  5.19233f-8  5.1941f-8\n",
       " 3.14258f-8  3.11437f-8  3.15466f-8     5.22377f-8  5.19031f-8  5.19288f-8\n",
       " 3.14339f-8  3.11612f-8  3.16192f-8  …  5.22063f-8  5.18911f-8  5.19362f-8\n",
       " 3.14405f-8  3.11789f-8  3.16902f-8     5.21757f-8  5.18656f-8  5.19279f-8\n",
       " 3.14497f-8  3.11881f-8  3.17556f-8     5.21564f-8  5.18647f-8  5.19277f-8\n",
       " 3.1455f-8   3.12033f-8  3.17997f-8     5.21492f-8  5.18534f-8  5.18546f-8\n",
       " 3.14634f-8  3.12126f-8  3.18628f-8     5.21096f-8  5.18326f-8  5.19635f-8\n",
       " ⋮                                   ⋱                          \n",
       " 3.14266f-8  3.12013f-8  3.1315f-8      5.22326f-8  5.2241f-8   5.20484f-8\n",
       " 3.14183f-8  3.11759f-8  3.13209f-8     5.22679f-8  5.22333f-8  5.20317f-8\n",
       " 3.14148f-8  3.11561f-8  3.13321f-8  …  5.22802f-8  5.22169f-8  5.20188f-8\n",
       " 3.14132f-8  3.11353f-8  3.13469f-8     5.23306f-8  5.21847f-8  5.19469f-8\n",
       " 3.14121f-8  3.11141f-8  3.13977f-8     5.23804f-8  5.21566f-8  5.19592f-8\n",
       " 3.14108f-8  3.11016f-8  3.13991f-8     5.23585f-8  5.2133f-8   5.19762f-8\n",
       " 3.14119f-8  3.10971f-8  3.13843f-8     5.23416f-8  5.21128f-8  5.19622f-8\n",
       " 3.14116f-8  3.10972f-8  3.13707f-8  …  5.23267f-8  5.20967f-8  5.1935f-8\n",
       " 3.14099f-8  3.11009f-8  3.13792f-8     5.22979f-8  5.20603f-8  5.19185f-8\n",
       "\n",
       "[:, :, 1, 85] =\n",
       " 2.8858f-8   2.89282f-8  2.93352f-8  …  5.23715f-8  5.21867f-8  5.17882f-8\n",
       " 2.88637f-8  2.8944f-8   2.93767f-8     5.23654f-8  5.21847f-8  5.17933f-8\n",
       " 2.88646f-8  2.89655f-8  2.94245f-8     5.23736f-8  5.21844f-8  5.17973f-8\n",
       " 2.88722f-8  2.8992f-8   2.94715f-8     5.23874f-8  5.22006f-8  5.19075f-8\n",
       " 2.88773f-8  2.90163f-8  2.95287f-8     5.23962f-8  5.22063f-8  5.19189f-8\n",
       " 2.88875f-8  2.90372f-8  2.9582f-8   …  5.23969f-8  5.22206f-8  5.19416f-8\n",
       " 2.8898f-8   2.90611f-8  2.9642f-8      5.24116f-8  5.22266f-8  5.19441f-8\n",
       " 2.89081f-8  2.90871f-8  2.96929f-8     5.24072f-8  5.22289f-8  5.19455f-8\n",
       " 2.89179f-8  2.91161f-8  2.9756f-8      5.23967f-8  5.22312f-8  5.18586f-8\n",
       " 2.89252f-8  2.91337f-8  2.98081f-8     5.23801f-8  5.2248f-8   5.1952f-8\n",
       " ⋮                                   ⋱                          \n",
       " 2.88367f-8  2.8843f-8   2.90494f-8     5.2223f-8   5.21364f-8  5.19822f-8\n",
       " 2.88348f-8  2.88472f-8  2.90854f-8     5.22563f-8  5.21594f-8  5.19656f-8\n",
       " 2.8833f-8   2.88472f-8  2.91302f-8  …  5.22929f-8  5.2158f-8   5.19577f-8\n",
       " 2.88319f-8  2.88528f-8  2.91707f-8     5.234f-8    5.2162f-8   5.1897f-8\n",
       " 2.88383f-8  2.88563f-8  2.92377f-8     5.2368f-8   5.21632f-8  5.1911f-8\n",
       " 2.88401f-8  2.88645f-8  2.92558f-8     5.23883f-8  5.2169f-8   5.19267f-8\n",
       " 2.88415f-8  2.88817f-8  2.92611f-8     5.23629f-8  5.21756f-8  5.19242f-8\n",
       " 2.88453f-8  2.8893f-8   2.92845f-8  …  5.23501f-8  5.21866f-8  5.19008f-8\n",
       " 2.88494f-8  2.8915f-8   2.92922f-8     5.23651f-8  5.21907f-8  5.18765f-8"
      ]
     },
     "metadata": {},
     "output_type": "display_data"
    }
   ],
   "source": [
    "using NetCDF\n",
    "x = NetCDF.ncread(\"/Users/ptg21/data/u-be647_ann_mean_surface_level_o3.nc\",\"o3\");\n",
    "\n",
    "#NetCDF.NCDatset= ncread(\"/Users/ptg21/data/u-be647_ann_mean_surface_level_o3.nc\", \"o3\");\n",
    "##ds = NetCDF.NCDataset(\"/Users/ptg21/data/u-be647_ann_mean_surface_level_o3.nc\",\"r\")\n"
   ]
  },
  {
   "cell_type": "code",
   "execution_count": 8,
   "id": "be049479-6666-454a-a0c8-f35a8f954c06",
   "metadata": {},
   "outputs": [
    {
     "data": {
      "text/plain": [
       "\u001b[34mClimArray\u001b[39m\u001b[90m with dimensions: \u001b[39m\n",
       "  \u001b[31mLon\u001b[39m Sampled \u001b[36m0:10:350\u001b[39m ForwardOrdered Regular Points,\n",
       "  \u001b[31mLat\u001b[39m Sampled \u001b[36m-90:5:90\u001b[39m ForwardOrdered Regular Points,\n",
       "  \u001b[31mTi\u001b[39m Sampled \u001b[36mDate(\"2000-03-15\"):Month(1):Date(\"2020-03-15\")\u001b[39m ForwardOrdered Regular Points\n",
       "and\u001b[32m data: \u001b[39m36×37×241 Array{Float64, 3}\n",
       "[:, :, 1]\n",
       " 0.65539    0.375172  0.634802   …  0.884496  0.812602   0.743321\n",
       " 0.846363   0.857599  0.47658       0.634435  0.911413   0.365548\n",
       " 0.406894   0.034947  0.46033       0.084478  0.894427   0.656253\n",
       " 0.0400615  0.775134  0.624931      0.699052  0.408503   0.213268\n",
       " ⋮                               ⋱            ⋮          \n",
       " 0.0695043  0.789168  0.667288      0.90302   0.463769   0.00505043\n",
       " 0.402791   0.820017  0.0276353     0.643052  0.721741   0.459923\n",
       " 0.0205729  0.838043  0.333836      0.533918  0.0306464  0.273349\n",
       " 0.317589   0.527929  0.525364   …  0.770147  0.0418229  0.058186\n",
       "[and 240 more slices...]"
      ]
     },
     "metadata": {},
     "output_type": "display_data"
    }
   ],
   "source": [
    "using ClimateBase, Dates\n",
    "Time = ClimateBase.Ti # `Time` is more intuitive than `Ti`\n",
    "lats = -90:5:90\n",
    "lons = 0:10:359\n",
    "t = Date(2000, 3, 15):Month(1):Date(2020, 3, 15)\n",
    "# Here we wrap all dimension data into proper dimensions:\n",
    "dimensions = (Lon(lons), Lat(lats), Time(t))\n",
    "# where `Lon, Lat, Time` are `Dimension`s exported by ClimateBase\n",
    "# combining the array data with dimensions makes a `ClimArray`:\n",
    "data = rand(36, 37, 241) # same size as `dimensions`\n",
    "A = ClimArray(data, dimensions)"
   ]
  },
  {
   "cell_type": "code",
   "execution_count": 78,
   "id": "6933e5d9-b232-49b1-b2ff-8a86b62968f2",
   "metadata": {},
   "outputs": [
    {
     "name": "stderr",
     "output_type": "stream",
     "text": [
      "┌ Warning: Dimension name \"model_level_number\" not in common names.\n",
      "│ Please consider opening an issue/PR on GitHub proposing \"model_level_number\" in common names!\n",
      "│ Making a generic dimension named `Dim{:model_level_number}` for now...\n",
      "└ @ ClimateBase /Users/ptg21/.julia/packages/ClimateBase/kNqdV/src/io/netcdf_read.jl:174\n"
     ]
    },
    {
     "data": {
      "text/plain": [
       "\u001b[34mClimArray\u001b[39m (named \u001b[34mo3\u001b[39m)\u001b[90m with dimensions: \u001b[39m\n",
       "  \u001b[31mLon\u001b[39m Sampled \u001b[36m0.9375f0:1.875f0:359.0625f0\u001b[39m ForwardOrdered Regular Points,\n",
       "  \u001b[31mLat\u001b[39m Sampled \u001b[36m-89.375f0:1.25f0:89.375f0\u001b[39m ForwardOrdered Regular Points,\n",
       "  \u001b[31mDim{\u001b[39m\u001b[33m:model_level_number\u001b[39m\u001b[31m}\u001b[39m Sampled \u001b[36mInt32[1]\u001b[39m ForwardOrdered Irregular Points,\n",
       "  \u001b[31mTi\u001b[39m Sampled \u001b[36mCFTime.DateTime360Day(2016-06-01T00:00:00):Dates.Year(1):CFTime.DateTime360Day(2100-06-01T00:00:00)\u001b[39m ForwardOrdered Regular Points\n",
       "\u001b[35mattributes: \u001b[39mDict{String, String} with 6 entries:\n",
       "  \"units\"           => \"kg kg-1\"\n",
       "  \"coordinates\"     => \"forecast_period forecast_reference_time level_height si…\n",
       "  \"cell_methods\"    => \"time: mean (interval: 1 hour)\"\n",
       "  \"long_name\"       => \"O3\"\n",
       "  \"um_stash_source\" => \"m01s34i001\"\n",
       "  \"grid_mapping\"    => \"latitude_longitude\"\n",
       "and\u001b[32m data: \u001b[39m192×144×1×85 Array{Float32, 4}\n",
       "[:, :, 1, 1]\n",
       " ⋮      ⋱  \n",
       "[and 84 more slices...]"
      ]
     },
     "metadata": {},
     "output_type": "display_data"
    }
   ],
   "source": [
    "using ClimateBase\n",
    "A = ClimateBase.ncread(\"/Users/ptg21/data/u-be647_ann_mean_surface_level_o3.nc\", \"o3\") \n",
    "#a = ClimateBase.ncread(\"/Users/ptg21/data/u-be647_ann_mean_surface_level_o3.nc\", \"o3\") #-> A"
   ]
  },
  {
   "cell_type": "code",
   "execution_count": 79,
   "id": "a7b387eb-ee6b-4ee5-8da2-afa0ae4be75f",
   "metadata": {},
   "outputs": [
    {
     "data": {
      "text/plain": [
       "192×144×1×85 Raster{Float32,4}\u001b[33m o3\u001b[39m\u001b[90m with dimensions: \u001b[39m\n",
       "  \u001b[31mX\u001b[39m Mapped \u001b[36mFloat32[0.9375, 2.8125, …, 357.1875, 359.0625]\u001b[39m ForwardOrdered Regular Points crs: EPSG mappedcrs: EPSG,\n",
       "  \u001b[31mY\u001b[39m Mapped \u001b[36mFloat32[-89.375, -88.125, …, 88.125, 89.375]\u001b[39m ForwardOrdered Regular Points crs: EPSG mappedcrs: EPSG,\n",
       "  \u001b[31mDim{\u001b[39m\u001b[33m:model_level_number\u001b[39m\u001b[31m}\u001b[39m Sampled \u001b[36mInt32[1]\u001b[39m ReverseOrdered Regular Points,\n",
       "  \u001b[31mTi\u001b[39m Sampled \u001b[36mCFTime.DateTime360Day[CFTime.DateTime360Day(2016-06-01T00:00:00), …, CFTime.DateTime360Day(2100-06-01T00:00:00)]\u001b[39m ForwardOrdered Explicit Intervals\n",
       "\u001b[90mwith missingval: \u001b[39mmissing\n",
       "\n",
       "\u001b[90mfrom file:\u001b[39m\n",
       "/Users/ptg21/data/u-be647_ann_mean_surface_level_o3.nc"
      ]
     },
     "metadata": {},
     "output_type": "display_data"
    }
   ],
   "source": [
    "using Rasters, Plots\n",
    "url = \"https://www.unidata.ucar.edu/software/netcdf/examples/tos_O1_2001-2002.nc\";\n",
    "filename = download(url, \"tos_O1_2001-2002.nc\");\n",
    "filename=\"/Users/ptg21/data/u-be647_ann_mean_surface_level_o3.nc\"\n",
    "A = Raster(filename, key=:o3)"
   ]
  },
  {
   "cell_type": "code",
   "execution_count": 83,
   "id": "f9239001",
   "metadata": {},
   "outputs": [
    {
     "ename": "UndefVarError",
     "evalue": "UndefVarError: plot not defined",
     "output_type": "error",
     "traceback": [
      "UndefVarError: plot not defined\n",
      "\n",
      "Stacktrace:\n",
      " [1] top-level scope\n",
      "   @ ~/src/Julia_playground/plot_maps.ipynb:2"
     ]
    }
   ],
   "source": [
    "using CFTime\n",
    "A[\n",
    "  X=Between(-60.0, 90.0),\n",
    "  model_level_number=Between(1,2),\n",
    "  Y=Between(190.0, 345.0)] |> plot"
   ]
  },
  {
   "cell_type": "code",
   "execution_count": 84,
   "id": "7ed264ff",
   "metadata": {},
   "outputs": [
    {
     "name": "stderr",
     "output_type": "stream",
     "text": [
      "┌ Warning: Dimension name \"model_level_number\" not in common names.\n",
      "│ Please consider opening an issue/PR on GitHub proposing \"model_level_number\" in common names!\n",
      "│ Making a generic dimension named `Dim{:model_level_number}` for now...\n",
      "└ @ ClimateBase /Users/ptg21/.julia/packages/ClimateBase/kNqdV/src/io/netcdf_read.jl:174\n"
     ]
    }
   ],
   "source": [
    "using ClimateBase, ColorSchemes, Plots\n",
    "using GMT\n",
    "q = ClimateBase.ncread(\"/Users/ptg21/data/u-be647_ann_mean_surface_level_o3.nc\", \"o3\") \n",
    "B= Array(q[:,:,1,1]*28.8/48*1e9) # q is a ClimArray (by using ClimateBase), 180x360, but the lats are from 89.5 to -89.5\n",
    "B=Array(B') # transpose the array in order to get 360x180\n",
    "B=reverse(B, dims = 2)  # make the lats to be from -89.5 to 89.5\n",
    "G2 = mat2grid(B , x=collect(0.9375f0:1.875:359.0625), y=collect(-89.375:1.25:89.375)) # x are the lons, y the lats\n",
    "\n",
    "coast(region=(-175, 175, -85, 85), \n",
    "    proj=:Miller,figsize=16,frame=(annot=45, grid=45,ticks=10)) # make the map\n",
    "topo = makecpt(color=:jet, range=(0,50,5), continuous=true) #make colorbar\n",
    "grdimage!(G2, coast=true,color=topo,\n",
    "          frame=(annot=45,grid=45,title=\"Ozone\")) # plot my gridarray\n",
    "colorbar!(pos=(anchor=:BC,length=(12.5,0.6), horizontal=true, offset=(0,1.0)),\n",
    "         color=topo, frame=(ylabel=\"ppb\",), fmt=:png, show=true) # plot colorbar"
   ]
  },
  {
   "cell_type": "code",
   "execution_count": 64,
   "id": "c2f469ee",
   "metadata": {},
   "outputs": [
    {
     "data": {
      "image/svg+xml": "<?xml version=\"1.0\" encoding=\"UTF-8\"?>\n<!DOCTYPE svg PUBLIC \"-//W3C//DTD SVG 1.1//EN\"\n \"http://www.w3.org/Graphics/SVG/1.1/DTD/svg11.dtd\">\n<svg xmlns=\"http://www.w3.org/2000/svg\" version=\"1.1\"\n     width=\"180mm\" height=\"25mm\"\n     viewBox=\"0 0 9 1\" preserveAspectRatio=\"none\"\n     shape-rendering=\"crispEdges\" stroke=\"none\">\n<rect width=\".95\" height=\".96\" x=\"0\" y=\"0\" fill=\"#FFFFFF\" />\n<rect width=\".95\" height=\".96\" x=\"1\" y=\"0\" fill=\"#F0F0F0\" />\n<rect width=\".95\" height=\".96\" x=\"2\" y=\"0\" fill=\"#D9D9D9\" />\n<rect width=\".95\" height=\".96\" x=\"3\" y=\"0\" fill=\"#BDBDBD\" />\n<rect width=\".95\" height=\".96\" x=\"4\" y=\"0\" fill=\"#969696\" />\n<rect width=\".95\" height=\".96\" x=\"5\" y=\"0\" fill=\"#737373\" />\n<rect width=\".95\" height=\".96\" x=\"6\" y=\"0\" fill=\"#525252\" />\n<rect width=\".95\" height=\".96\" x=\"7\" y=\"0\" fill=\"#252525\" />\n<rect width=\".95\" height=\".96\" x=\"8\" y=\"0\" fill=\"#000000\" />\n</svg>",
      "text/plain": [
       "9-element Array{RGB{N0f8},1} with eltype RGB{FixedPointNumbers.N0f8}:\n",
       " RGB{N0f8}(1.0,1.0,1.0)\n",
       " RGB{N0f8}(0.941,0.941,0.941)\n",
       " RGB{N0f8}(0.851,0.851,0.851)\n",
       " RGB{N0f8}(0.741,0.741,0.741)\n",
       " RGB{N0f8}(0.588,0.588,0.588)\n",
       " RGB{N0f8}(0.451,0.451,0.451)\n",
       " RGB{N0f8}(0.322,0.322,0.322)\n",
       " RGB{N0f8}(0.145,0.145,0.145)\n",
       " RGB{N0f8}(0.0,0.0,0.0)"
      ]
     },
     "metadata": {},
     "output_type": "display_data"
    }
   ],
   "source": [
    "using ColorBrewer\n",
    "\n",
    "greens = ColorBrewer.palette(\"Greens\", 9);\n",
    "#Plots.ColorPalette(BuPu_8)"
   ]
  }
 ],
 "metadata": {
  "kernelspec": {
   "display_name": "Julia 1.8.1",
   "language": "julia",
   "name": "julia-1.8"
  },
  "language_info": {
   "file_extension": ".jl",
   "mimetype": "application/julia",
   "name": "julia",
   "version": "1.8.1"
  }
 },
 "nbformat": 4,
 "nbformat_minor": 5
}
